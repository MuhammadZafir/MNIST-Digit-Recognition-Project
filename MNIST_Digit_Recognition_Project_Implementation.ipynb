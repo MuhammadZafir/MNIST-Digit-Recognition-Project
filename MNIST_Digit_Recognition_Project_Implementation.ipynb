{
  "nbformat": 4,
  "nbformat_minor": 0,
  "metadata": {
    "colab": {
      "provenance": [],
      "gpuType": "T4",
      "authorship_tag": "ABX9TyOjjMUf7bP1n4761+3dkvRk",
      "include_colab_link": true
    },
    "kernelspec": {
      "name": "python3",
      "display_name": "Python 3"
    },
    "language_info": {
      "name": "python"
    },
    "accelerator": "GPU"
  },
  "cells": [
    {
      "cell_type": "markdown",
      "metadata": {
        "id": "view-in-github",
        "colab_type": "text"
      },
      "source": [
        "<a href=\"https://colab.research.google.com/github/MuhammadZafir/MNIST-Digit-Recognition-Project/blob/main/MNIST_Digit_Recognition_Project_Implementation.ipynb\" target=\"_parent\"><img src=\"https://colab.research.google.com/assets/colab-badge.svg\" alt=\"Open In Colab\"/></a>"
      ]
    },
    {
      "cell_type": "code",
      "source": [
        "# Run this cell once to install libraries.\n",
        "!pip install gradio numpy scikit-learn matplotlib --quiet"
      ],
      "metadata": {
        "id": "Jxn37zVuhpc8"
      },
      "execution_count": null,
      "outputs": []
    },
    {
      "cell_type": "code",
      "source": [
        "# Run this cell to import all necessary modules.\n",
        "import numpy as np\n",
        "import gradio as gr\n",
        "from google.colab import output # Specific for Google Colab environment\n",
        "from sklearn.datasets import fetch_openml\n",
        "from sklearn.model_selection import train_test_split\n",
        "from sklearn.linear_model import SGDClassifier\n",
        "from sklearn.ensemble import RandomForestClassifier\n",
        "from sklearn.metrics import confusion_matrix, classification_report, accuracy_score\n",
        "import matplotlib.pyplot as plt\n",
        "import random # For potential future data augmentation"
      ],
      "metadata": {
        "id": "pjliomL3hqd9"
      },
      "execution_count": null,
      "outputs": []
    },
    {
      "cell_type": "code",
      "source": [
        "# Run this cell once to load and prepare the dataset.\n",
        "print(\"Step 1: Loading MNIST dataset...\")\n",
        "# (a) Load MNIST dataset (fetch_openml('mnist_784'))\n",
        "# version=1 is important for consistency, as_frame=False returns NumPy arrays\n",
        "mnist = fetch_openml('mnist_784', version=1, as_frame=False, parser='auto')\n",
        "X, y = mnist.data, mnist.target\n",
        "\n",
        "# Convert target labels to integers\n",
        "y = y.astype(np.uint8)\n",
        "\n",
        "# Normalize pixel values to be between 0 and 1\n",
        "# This is a common and effective preprocessing step for image data.\n",
        "X = X / 255.0\n",
        "\n",
        "print(f\"Dataset loaded. X shape: {X.shape}, y shape: {y.shape}\")\n",
        "\n",
        "# (b) Split data (60k train, 10k test)\n",
        "# Manually split to ensure exact 60k/10k split as specified\n",
        "X_train, X_test = X[:60000], X[60000:]\n",
        "y_train, y_test = y[:60000], y[60000:]\n",
        "\n",
        "print(f\"Data split: X_train: {X_train.shape}, X_test: {X_test.shape}\")\n",
        "print(f\"Data split: y_train: {y_train.shape}, y_test: {y_test.shape}\")"
      ],
      "metadata": {
        "colab": {
          "base_uri": "https://localhost:8080/"
        },
        "id": "Z1HF-3QIhr7S",
        "outputId": "a73156d4-0b71-4ab3-f09a-15c088858614"
      },
      "execution_count": null,
      "outputs": [
        {
          "output_type": "stream",
          "name": "stdout",
          "text": [
            "Step 1: Loading MNIST dataset...\n",
            "Dataset loaded. X shape: (70000, 784), y shape: (70000,)\n",
            "Data split: X_train: (60000, 784), X_test: (10000, 784)\n",
            "Data split: y_train: (60000,), y_test: (10000,)\n"
          ]
        }
      ]
    },
    {
      "cell_type": "code",
      "source": [
        "# Cell 4: Model Training\n",
        "# Run this cell to train your classifiers. Only re-run if you change model parameters.\n",
        "print(\"\\nStep 2: Training Classifiers...\")\n",
        "\n",
        "# (c) Train classifiers:\n",
        "# SGD Classifier (with hinge loss - for linear SVM)\n",
        "print(\"Training SGD Classifier (loss='hinge')...\")\n",
        "sgd_clf = SGDClassifier(loss='hinge', random_state=42, max_iter=1000, tol=1e-3)\n",
        "sgd_clf.fit(X_train, y_train)\n",
        "print(\"SGD Classifier training complete.\")\n",
        "\n",
        "# Random Forest Classifier\n",
        "print(\"Training Random Forest Classifier...\")\n",
        "rf_clf = RandomForestClassifier(random_state=42, n_estimators=100, n_jobs=-1) # n_jobs=-1 uses all available cores\n",
        "rf_clf.fit(X_train, y_train)\n",
        "print(\"Random Forest Classifier training complete.\")\n"
      ],
      "metadata": {
        "colab": {
          "base_uri": "https://localhost:8080/"
        },
        "id": "EdcqY1kvhtyo",
        "outputId": "d21289a7-ff01-49a4-e643-d7527007d09f"
      },
      "execution_count": null,
      "outputs": [
        {
          "output_type": "stream",
          "name": "stdout",
          "text": [
            "\n",
            "Step 2: Training Classifiers...\n",
            "Training SGD Classifier (loss='hinge')...\n",
            "SGD Classifier training complete.\n",
            "Training Random Forest Classifier...\n",
            "Random Forest Classifier training complete.\n"
          ]
        }
      ]
    },
    {
      "cell_type": "code",
      "source": [
        "# Cell 5: Model Evaluation\n",
        "# Run this cell to evaluate the trained models.\n",
        "print(\"\\nStep 3: Evaluating Classifiers...\")\n",
        "\n",
        "# Predictions on the test set\n",
        "y_pred_sgd = sgd_clf.predict(X_test)\n",
        "y_pred_rf = rf_clf.predict(X_test)\n",
        "\n",
        "# (d) Evaluate using confusion matrix & classification report\n",
        "\n",
        "# SGD Classifier Evaluation\n",
        "print(\"\\n--- SGD Classifier Evaluation ---\")\n",
        "print(\"Accuracy:\", accuracy_score(y_test, y_pred_sgd))\n",
        "print(\"\\nConfusion Matrix:\\n\", confusion_matrix(y_test, y_pred_sgd))\n",
        "print(\"\\nClassification Report:\\n\", classification_report(y_test, y_pred_sgd))\n",
        "\n",
        "# Random Forest Classifier Evaluation\n",
        "print(\"\\n--- Random Forest Classifier Evaluation ---\")\n",
        "print(\"Accuracy:\", accuracy_score(y_test, y_pred_rf))\n",
        "print(\"\\nConfusion Matrix:\\n\", confusion_matrix(y_test, y_pred_rf))\n",
        "print(\"\\nClassification Report:\\n\", classification_report(y_test, y_pred_rf))"
      ],
      "metadata": {
        "colab": {
          "base_uri": "https://localhost:8080/"
        },
        "id": "a9J6-7ushv-4",
        "outputId": "a7d1688a-9a5a-49ed-bd74-eca431f128b6"
      },
      "execution_count": null,
      "outputs": [
        {
          "output_type": "stream",
          "name": "stdout",
          "text": [
            "\n",
            "Step 3: Evaluating Classifiers...\n",
            "\n",
            "--- SGD Classifier Evaluation ---\n",
            "Accuracy: 0.9174\n",
            "\n",
            "Confusion Matrix:\n",
            " [[ 956    0    2    2    0    3   12    3    1    1]\n",
            " [   0 1112    3    1    0    3    5    1   10    0]\n",
            " [   8    5  934   13    6    2   14   13   33    4]\n",
            " [   5    0   26  902    2   30    3   13   21    8]\n",
            " [   1    3    5    0  888    0   20    5    8   52]\n",
            " [  12    3    1   24   12  777   24    5   27    7]\n",
            " [   7    3    6    2    6    7  925    0    2    0]\n",
            " [   2    8   23    3    7    1    1  949    3   31]\n",
            " [  12   12    8   17   15   38   11   14  834   13]\n",
            " [  10    8    2   17   28   12    0   27    8  897]]\n",
            "\n",
            "Classification Report:\n",
            "               precision    recall  f1-score   support\n",
            "\n",
            "           0       0.94      0.98      0.96       980\n",
            "           1       0.96      0.98      0.97      1135\n",
            "           2       0.92      0.91      0.91      1032\n",
            "           3       0.92      0.89      0.91      1010\n",
            "           4       0.92      0.90      0.91       982\n",
            "           5       0.89      0.87      0.88       892\n",
            "           6       0.91      0.97      0.94       958\n",
            "           7       0.92      0.92      0.92      1028\n",
            "           8       0.88      0.86      0.87       974\n",
            "           9       0.89      0.89      0.89      1009\n",
            "\n",
            "    accuracy                           0.92     10000\n",
            "   macro avg       0.92      0.92      0.92     10000\n",
            "weighted avg       0.92      0.92      0.92     10000\n",
            "\n",
            "\n",
            "--- Random Forest Classifier Evaluation ---\n",
            "Accuracy: 0.9704\n",
            "\n",
            "Confusion Matrix:\n",
            " [[ 971    0    0    0    0    2    3    1    3    0]\n",
            " [   0 1127    2    2    0    1    2    0    1    0]\n",
            " [   6    0 1002    5    3    0    3    8    5    0]\n",
            " [   1    0    9  972    0    9    0    9    8    2]\n",
            " [   1    0    0    0  955    0    5    1    4   16]\n",
            " [   5    1    1    9    2  860    5    2    5    2]\n",
            " [   7    3    0    0    3    3  937    0    5    0]\n",
            " [   1    4   20    2    0    0    0  989    2   10]\n",
            " [   4    0    6    7    5    5    5    4  930    8]\n",
            " [   7    6    2   12   12    1    0    4    4  961]]\n",
            "\n",
            "Classification Report:\n",
            "               precision    recall  f1-score   support\n",
            "\n",
            "           0       0.97      0.99      0.98       980\n",
            "           1       0.99      0.99      0.99      1135\n",
            "           2       0.96      0.97      0.97      1032\n",
            "           3       0.96      0.96      0.96      1010\n",
            "           4       0.97      0.97      0.97       982\n",
            "           5       0.98      0.96      0.97       892\n",
            "           6       0.98      0.98      0.98       958\n",
            "           7       0.97      0.96      0.97      1028\n",
            "           8       0.96      0.95      0.96       974\n",
            "           9       0.96      0.95      0.96      1009\n",
            "\n",
            "    accuracy                           0.97     10000\n",
            "   macro avg       0.97      0.97      0.97     10000\n",
            "weighted avg       0.97      0.97      0.97     10000\n",
            "\n"
          ]
        }
      ]
    },
    {
      "cell_type": "code",
      "source": [
        "# Cell 6: Error Visualization (Plot worst misclassifications for Random Forest)\n",
        "# Run this cell to visualize errors.\n",
        "print(\"\\nStep 4: Visualizing Worst Misclassifications (Random Forest)...\")\n",
        "\n",
        "# Get probabilities for all classes for the test set\n",
        "rf_probas = rf_clf.predict_proba(X_test)\n",
        "\n",
        "# Identify misclassified samples\n",
        "misclassified_indices = np.where(y_pred_rf != y_test)[0]\n",
        "print(f\"Found {len(misclassified_indices)} misclassified samples by Random Forest.\")\n",
        "\n",
        "# Sort misclassified samples by prediction confidence for the *incorrect* class\n",
        "# A higher probability for the predicted (incorrect) class means higher confidence in the error.\n",
        "# We want to see cases where the model was confident but wrong.\n",
        "\n",
        "# Store (index, predicted_proba_for_incorrect_class) for misclassified samples\n",
        "misclassification_confidences = []\n",
        "for idx in misclassified_indices:\n",
        "    predicted_class = y_pred_rf[idx]\n",
        "    confidence_in_incorrect_pred = rf_probas[idx, predicted_class]\n",
        "    misclassification_confidences.append((idx, confidence_in_incorrect_pred))\n",
        "\n",
        "# Sort by confidence in descending order (worst misclassifications first)\n",
        "misclassification_confidences.sort(key=lambda x: x[1], reverse=True)\n",
        "\n",
        "# Plot the top N worst misclassifications\n",
        "num_to_plot = min(10, len(misclassification_confidences)) # Plot up to 10\n",
        "print(f\"Plotting top {num_to_plot} worst misclassifications.\")\n",
        "\n",
        "plt.figure(figsize=(12, 8))\n",
        "for i in range(num_to_plot):\n",
        "    original_idx = misclassification_confidences[i][0]\n",
        "    confidence = misclassification_confidences[i][1]\n",
        "\n",
        "    plt.subplot(2, 5, i + 1)\n",
        "    plt.imshow(X_test[original_idx].reshape(28, 28) * 255, cmap='gray', vmin=0, vmax=255) # Rescale back to 0-255 for display\n",
        "    plt.title(f\"True: {y_test[original_idx]}\\nPred: {y_pred_rf[original_idx]} (Conf: {confidence:.2f})\")\n",
        "    plt.axis('off')\n",
        "plt.tight_layout()\n",
        "plt.show()"
      ],
      "metadata": {
        "colab": {
          "base_uri": "https://localhost:8080/",
          "height": 725
        },
        "id": "pfjHCWEEhx14",
        "outputId": "cb0f61a3-a296-4eae-ed39-16ba9256b551"
      },
      "execution_count": null,
      "outputs": [
        {
          "output_type": "stream",
          "name": "stdout",
          "text": [
            "\n",
            "Step 4: Visualizing Worst Misclassifications (Random Forest)...\n",
            "Found 296 misclassified samples by Random Forest.\n",
            "Plotting top 10 worst misclassifications.\n"
          ]
        },
        {
          "output_type": "display_data",
          "data": {
            "text/plain": [
              "<Figure size 1200x800 with 10 Axes>"
            ],
            "image/png": "[encoded data removed]"
          },
          "metadata": {}
        }
      ]
    },
    {
      "cell_type": "code",
      "source": [
        "# Cell 7: Gradio Web App Definition and Launch\n",
        "# Run this cell to define and launch your Gradio app.\n",
        "# You can re-run this cell multiple times after making changes to predict_digit_gradio\n",
        "# without re-running training.\n",
        "print(\"\\nStep 5: Deploying as Gradio Web App...\")\n",
        "\n",
        "def predict_digit_gradio(input_data):\n",
        "    \"\"\"\n",
        "    Handles sketchpad input from Gradio, preprocesses it, and makes predictions\n",
        "    using the trained Random Forest Classifier.\n",
        "\n",
        "    Args:\n",
        "        input_data: The input from Gradio's gr.Sketchpad.\n",
        "                    This is typically a dictionary {'background': ..., 'layers': ..., 'composite': numpy_array}\n",
        "                    or a numpy_array directly for older Gradio versions.\n",
        "\n",
        "    Returns:\n",
        "        A dictionary formatted for gr.Label, containing predicted class probabilities.\n",
        "        Returns a \"No drawing detected\" or \"Error\" message with 0.0 confidence if issues occur.\n",
        "    \"\"\"\n",
        "    image = None # Initialize image variable\n",
        "\n",
        "    # Robustly extract the image data from input_data\n",
        "    if isinstance(input_data, dict):\n",
        "        # Gradio's gr.Sketchpad often returns the final image in the 'composite' key\n",
        "        if 'composite' in input_data and input_data['composite'] is not None:\n",
        "            image = input_data['composite']\n",
        "        # Fallback for older Gradio versions or other image inputs that might use 'image' key\n",
        "        elif 'image' in input_data and input_data['image'] is not None:\n",
        "            image = input_data['image']\n",
        "        else:\n",
        "            # If no valid image data found in expected keys\n",
        "            return {\"No drawing detected\": 0.0}\n",
        "    elif isinstance(input_data, np.ndarray):\n",
        "        image = input_data\n",
        "    else:\n",
        "        # Handle truly unexpected input types\n",
        "        return {\"Error: Invalid input format\": 0.0}\n",
        "\n",
        "    # Ensure the image is a NumPy array and not empty\n",
        "    if image is None or (isinstance(image, np.ndarray) and image.size == 0):\n",
        "        return {\"No drawing detected\": 0.0}\n",
        "\n",
        "    image = np.asarray(image)\n",
        "\n",
        "    # Convert to grayscale if needed (Sketchpad often returns RGBA)\n",
        "    if image.ndim == 3 and image.shape[2] >= 3:\n",
        "        image = image[:, :, :3].mean(axis=2) # Take mean of RGB channels\n",
        "\n",
        "    # Define target size for MNIST (28x28)\n",
        "    target_size = (28, 28)\n",
        "\n",
        "    # Resize the image to 28x28\n",
        "    if image.shape != target_size:\n",
        "        h, w = image.shape\n",
        "        if h == 0 or w == 0:\n",
        "            return {\"No drawing detected\": 0.0}\n",
        "\n",
        "        scale_x = w / target_size[1]\n",
        "        scale_y = h / target_size[0]\n",
        "\n",
        "        j, i = np.meshgrid(\n",
        "            np.clip((np.arange(target_size[1]) * scale_x).astype(int), 0, w - 1),\n",
        "            np.clip((np.arange(target_size[0]) * scale_y).astype(int), 0, h - 1)\n",
        "        )\n",
        "        image = image[i, j]\n",
        "\n",
        "    # Invert colors: Sketchpad draws black on white, but MNIST models expect white on black\n",
        "    image = 255 - image\n",
        "\n",
        "    # Normalize pixel values to be between 0 and 1\n",
        "    # Avoid division by zero if image is completely black (all zeros after inversion)\n",
        "    image_flat = image.reshape(1, -1)\n",
        "    if np.max(image_flat) > 0:\n",
        "        image_normalized = image_flat / np.max(image_flat) # Normalize based on actual max\n",
        "    else:\n",
        "        # If image is all zeros after inversion (i.e., blank canvas), return no drawing\n",
        "        return {\"No drawing detected\": 0.0}\n",
        "\n",
        "    # Check if the drawing is too faint after normalization (optional, but good for robustness)\n",
        "    # If the sum of pixel values is very low, it might be an empty drawing.\n",
        "    if np.sum(image_normalized) < 5: # Threshold can be tuned\n",
        "        return {\"No drawing detected\": 0.0}\n",
        "\n",
        "    # Get predictions from the Random Forest Classifier\n",
        "    try:\n",
        "        rf_proba = rf_clf.predict_proba(image_normalized)[0]\n",
        "        # Format for gr.Label: dictionary where keys are class labels (strings) and values are probabilities (floats)\n",
        "        rf_results = {str(i): prob for i, prob in enumerate(rf_proba)}\n",
        "\n",
        "        return rf_results\n",
        "\n",
        "    except Exception as e:\n",
        "        print(f\"Error during prediction: {e}\")\n",
        "        return {\"Prediction Error\": 0.0}\n",
        "\n",
        "# Enable custom widget manager for Gradio in Colab\n",
        "output.enable_custom_widget_manager()\n",
        "\n",
        "# Cell 7: Gradio Web App Definition and Launch\n",
        "# ... (previous code in Cell 7) ...\n",
        "\n",
        "# Create Gradio interface\n",
        "interface = gr.Interface(\n",
        "    fn=predict_digit_gradio,\n",
        "    inputs=gr.Sketchpad(image_mode=\"L\"), # Removed brush_radius argument\n",
        "    outputs=\"label\",\n",
        "    title=\"MNIST Digit Recognition\",\n",
        "    description=\"Draw a digit (0-9) on the white canvas with a black brush. The model is trained on the MNIST dataset (28x28 pixels).\",\n",
        "    live=True\n",
        ")\n",
        "\n",
        "# Launch the Gradio app\n",
        "interface.launch(debug=True)"
      ],
      "metadata": {
        "colab": {
          "base_uri": "https://localhost:8080/",
          "height": 670
        },
        "id": "LaMHMwxre8rL",
        "outputId": "bc00c202-8253-4a8f-c47e-d358a8470147"
      },
      "execution_count": null,
      "outputs": [
        {
          "metadata": {
            "tags": null
          },
          "name": "stdout",
          "output_type": "stream",
          "text": [
            "\n",
            "Step 5: Deploying as Gradio Web App...\n",
            "It looks like you are running Gradio on a hosted a Jupyter notebook. For the Gradio app to work, sharing must be enabled. Automatically setting `share=True` (you can turn this off by setting `share=False` in `launch()` explicitly).\n",
            "\n",
            "Colab notebook detected. This cell will run indefinitely so that you can see errors and logs. To turn off, set debug=False in launch().\n",
            "* Running on public URL: https://743903bdc3d8584a8c.gradio.live\n",
            "\n",
            "This share link expires in 1 week. For free permanent hosting and GPU upgrades, run `gradio deploy` from the terminal in the working directory to deploy to Hugging Face Spaces (https://huggingface.co/spaces)\n"
          ]
        },
        {
          "data": {
            "text/html": [
              "<div><iframe src=\"https://743903bdc3d8584a8c.gradio.live\" width=\"100%\" height=\"500\" allow=\"autoplay; camera; microphone; clipboard-read; clipboard-write;\" frameborder=\"0\" allowfullscreen></iframe></div>"
            ],
            "text/plain": [
              "<IPython.core.display.HTML object>"
            ]
          },
          "metadata": {},
          "output_type": "display_data"
        }
      ]
    }
  ]
}